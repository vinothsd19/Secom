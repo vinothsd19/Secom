{
 "cells": [
  {
   "cell_type": "code",
   "execution_count": 1,
   "id": "a06a754b",
   "metadata": {},
   "outputs": [
    {
     "name": "stderr",
     "output_type": "stream",
     "text": [
      "C:\\ProgramData\\Anaconda3\\lib\\site-packages\\numpy\\_distributor_init.py:30: UserWarning: loaded more than 1 DLL from .libs:\n",
      "C:\\ProgramData\\Anaconda3\\lib\\site-packages\\numpy\\.libs\\libopenblas.QVLO2T66WEPI7JZ63PS3HMOHFEY472BC.gfortran-win_amd64.dll\n",
      "C:\\ProgramData\\Anaconda3\\lib\\site-packages\\numpy\\.libs\\libopenblas.WCDJNK7YVMPZQ2ME2ZZHJJRJ3JIKNDB7.gfortran-win_amd64.dll\n",
      "  warnings.warn(\"loaded more than 1 DLL from .libs:\"\n"
     ]
    }
   ],
   "source": [
    "import pandas as pd\n",
    "import matplotlib.pyplot as plt\n",
    "import seaborn as sns\n",
    "import numpy as np"
   ]
  },
  {
   "cell_type": "code",
   "execution_count": 2,
   "id": "fe00170b",
   "metadata": {},
   "outputs": [],
   "source": [
    "#imporitng the data set using read_spss command\n",
    "df =  pd.read_spss('secom_mod.SAV')"
   ]
  },
  {
   "cell_type": "code",
   "execution_count": 3,
   "id": "0d9794bc",
   "metadata": {},
   "outputs": [],
   "source": [
    "#Splitting the dataset to Test and Train\n",
    "from sklearn.model_selection import train_test_split\n",
    "from sklearn.feature_selection import VarianceThreshold\n",
    "\n",
    "X = df.drop(['class'], axis= 1)\n",
    "y = df['class']\n",
    "\n",
    "\n",
    "X_train,X_test,y_train,y_test = train_test_split(X, y, test_size=.3,stratify=y, random_state=42)\n",
    "X_train = X_train.copy()\n",
    "\n",
    "pd.set_option('display.max_columns', None)"
   ]
  },
  {
   "cell_type": "code",
   "execution_count": 4,
   "id": "7fc0a266",
   "metadata": {},
   "outputs": [],
   "source": [
    "#making the class as categorical value\n",
    "\n",
    "y_train = y_train.astype('category')\n",
    "assert y_train.dtype == 'category'"
   ]
  },
  {
   "cell_type": "code",
   "execution_count": 5,
   "id": "ced5fb80",
   "metadata": {},
   "outputs": [],
   "source": [
    "#dropping the timestamp column as it is not used for modelling\n",
    "\n",
    "X_train = X_train.drop(['ID', 'timestamp'],axis = 1)"
   ]
  },
  {
   "cell_type": "code",
   "execution_count": 6,
   "id": "13855fd7",
   "metadata": {},
   "outputs": [],
   "source": [
    "X_train1 = X_train.drop(X_train.columns[X_train.apply(lambda col: col.isnull().sum()/len(df) > 0.55)], axis=1)"
   ]
  },
  {
   "cell_type": "code",
   "execution_count": 7,
   "id": "90240c00",
   "metadata": {},
   "outputs": [],
   "source": [
    "X_train2 = X_train1.drop(X_train1.columns[X_train1.apply(lambda col: col.nunique()) == 1],axis=1)"
   ]
  },
  {
   "cell_type": "code",
   "execution_count": 8,
   "id": "5896a98e",
   "metadata": {},
   "outputs": [],
   "source": [
    "def outlier_detection_and_replacement(DataSet):\n",
    "    DataSet.fillna(0)\n",
    "    Q1 = DataSet.quantile(0.25)\n",
    "    Q3 = DataSet.quantile(0.75)\n",
    "    IQR = Q3 - Q1\n",
    "\n",
    "    DataSet[(DataSet < (Q1 - 1.5 * IQR)) | (DataSet > (Q3 + 1.5 * IQR))] = np.nan\n",
    "    return DataSet"
   ]
  },
  {
   "cell_type": "code",
   "execution_count": 9,
   "id": "c983937a",
   "metadata": {},
   "outputs": [],
   "source": [
    "X_train3 = outlier_detection_and_replacement(X_train2)"
   ]
  },
  {
   "cell_type": "code",
   "execution_count": 10,
   "id": "f803e733",
   "metadata": {},
   "outputs": [
    {
     "ename": "MemoryError",
     "evalue": "Unable to allocate 6.62 MiB for an array with shape (868155,) and data type float64",
     "output_type": "error",
     "traceback": [
      "\u001b[1;31m---------------------------------------------------------------------------\u001b[0m",
      "\u001b[1;31mMemoryError\u001b[0m                               Traceback (most recent call last)",
      "\u001b[1;32m<ipython-input-10-141afb7bc935>\u001b[0m in \u001b[0;36m<module>\u001b[1;34m\u001b[0m\n\u001b[0;32m      6\u001b[0m \u001b[0mMICE_imputer\u001b[0m \u001b[1;33m=\u001b[0m \u001b[0mIterativeImputer\u001b[0m\u001b[1;33m(\u001b[0m\u001b[1;33m)\u001b[0m\u001b[1;33m\u001b[0m\u001b[1;33m\u001b[0m\u001b[0m\n\u001b[0;32m      7\u001b[0m \u001b[0mX_train3_filled\u001b[0m \u001b[1;33m=\u001b[0m \u001b[0mX_train3\u001b[0m\u001b[1;33m.\u001b[0m\u001b[0mcopy\u001b[0m\u001b[1;33m(\u001b[0m\u001b[0mdeep\u001b[0m \u001b[1;33m=\u001b[0m \u001b[1;32mTrue\u001b[0m\u001b[1;33m)\u001b[0m\u001b[1;33m\u001b[0m\u001b[1;33m\u001b[0m\u001b[0m\n\u001b[1;32m----> 8\u001b[1;33m \u001b[0mX_train3_filled\u001b[0m\u001b[1;33m.\u001b[0m\u001b[0miloc\u001b[0m\u001b[1;33m[\u001b[0m\u001b[1;33m:\u001b[0m\u001b[1;33m,\u001b[0m \u001b[1;33m:\u001b[0m\u001b[1;33m]\u001b[0m \u001b[1;33m=\u001b[0m \u001b[0mMICE_imputer\u001b[0m\u001b[1;33m.\u001b[0m\u001b[0mfit_transform\u001b[0m\u001b[1;33m(\u001b[0m\u001b[0mX_train3_filled\u001b[0m\u001b[1;33m)\u001b[0m\u001b[1;33m\u001b[0m\u001b[1;33m\u001b[0m\u001b[0m\n\u001b[0m",
      "\u001b[1;32mC:\\ProgramData\\Anaconda3\\lib\\site-packages\\sklearn\\impute\\_iterative.py\u001b[0m in \u001b[0;36mfit_transform\u001b[1;34m(self, X, y)\u001b[0m\n\u001b[0;32m    655\u001b[0m                                                                 \u001b[0mfeat_idx\u001b[0m\u001b[1;33m,\u001b[0m\u001b[1;33m\u001b[0m\u001b[1;33m\u001b[0m\u001b[0m\n\u001b[0;32m    656\u001b[0m                                                                 abs_corr_mat)\n\u001b[1;32m--> 657\u001b[1;33m                 Xt, estimator = self._impute_one_feature(\n\u001b[0m\u001b[0;32m    658\u001b[0m                     \u001b[0mXt\u001b[0m\u001b[1;33m,\u001b[0m \u001b[0mmask_missing_values\u001b[0m\u001b[1;33m,\u001b[0m \u001b[0mfeat_idx\u001b[0m\u001b[1;33m,\u001b[0m \u001b[0mneighbor_feat_idx\u001b[0m\u001b[1;33m,\u001b[0m\u001b[1;33m\u001b[0m\u001b[1;33m\u001b[0m\u001b[0m\n\u001b[0;32m    659\u001b[0m                     estimator=None, fit_mode=True)\n",
      "\u001b[1;32mC:\\ProgramData\\Anaconda3\\lib\\site-packages\\sklearn\\impute\\_iterative.py\u001b[0m in \u001b[0;36m_impute_one_feature\u001b[1;34m(self, X_filled, mask_missing_values, feat_idx, neighbor_feat_idx, estimator, fit_mode)\u001b[0m\n\u001b[0;32m    307\u001b[0m             y_train = _safe_indexing(X_filled[:, feat_idx],\n\u001b[0;32m    308\u001b[0m                                      ~missing_row_mask)\n\u001b[1;32m--> 309\u001b[1;33m             \u001b[0mestimator\u001b[0m\u001b[1;33m.\u001b[0m\u001b[0mfit\u001b[0m\u001b[1;33m(\u001b[0m\u001b[0mX_train\u001b[0m\u001b[1;33m,\u001b[0m \u001b[0my_train\u001b[0m\u001b[1;33m)\u001b[0m\u001b[1;33m\u001b[0m\u001b[1;33m\u001b[0m\u001b[0m\n\u001b[0m\u001b[0;32m    310\u001b[0m \u001b[1;33m\u001b[0m\u001b[0m\n\u001b[0;32m    311\u001b[0m         \u001b[1;31m# if no missing values, don't predict\u001b[0m\u001b[1;33m\u001b[0m\u001b[1;33m\u001b[0m\u001b[1;33m\u001b[0m\u001b[0m\n",
      "\u001b[1;32mC:\\ProgramData\\Anaconda3\\lib\\site-packages\\sklearn\\linear_model\\_bayes.py\u001b[0m in \u001b[0;36mfit\u001b[1;34m(self, X, y, sample_weight)\u001b[0m\n\u001b[0;32m    238\u001b[0m \u001b[1;33m\u001b[0m\u001b[0m\n\u001b[0;32m    239\u001b[0m         \u001b[0mXT_y\u001b[0m \u001b[1;33m=\u001b[0m \u001b[0mnp\u001b[0m\u001b[1;33m.\u001b[0m\u001b[0mdot\u001b[0m\u001b[1;33m(\u001b[0m\u001b[0mX\u001b[0m\u001b[1;33m.\u001b[0m\u001b[0mT\u001b[0m\u001b[1;33m,\u001b[0m \u001b[0my\u001b[0m\u001b[1;33m)\u001b[0m\u001b[1;33m\u001b[0m\u001b[1;33m\u001b[0m\u001b[0m\n\u001b[1;32m--> 240\u001b[1;33m         \u001b[0mU\u001b[0m\u001b[1;33m,\u001b[0m \u001b[0mS\u001b[0m\u001b[1;33m,\u001b[0m \u001b[0mVh\u001b[0m \u001b[1;33m=\u001b[0m \u001b[0mlinalg\u001b[0m\u001b[1;33m.\u001b[0m\u001b[0msvd\u001b[0m\u001b[1;33m(\u001b[0m\u001b[0mX\u001b[0m\u001b[1;33m,\u001b[0m \u001b[0mfull_matrices\u001b[0m\u001b[1;33m=\u001b[0m\u001b[1;32mFalse\u001b[0m\u001b[1;33m)\u001b[0m\u001b[1;33m\u001b[0m\u001b[1;33m\u001b[0m\u001b[0m\n\u001b[0m\u001b[0;32m    241\u001b[0m         \u001b[0meigen_vals_\u001b[0m \u001b[1;33m=\u001b[0m \u001b[0mS\u001b[0m \u001b[1;33m**\u001b[0m \u001b[1;36m2\u001b[0m\u001b[1;33m\u001b[0m\u001b[1;33m\u001b[0m\u001b[0m\n\u001b[0;32m    242\u001b[0m \u001b[1;33m\u001b[0m\u001b[0m\n",
      "\u001b[1;32mC:\\ProgramData\\Anaconda3\\lib\\site-packages\\scipy\\linalg\\decomp_svd.py\u001b[0m in \u001b[0;36msvd\u001b[1;34m(a, full_matrices, compute_uv, overwrite_a, check_finite, lapack_driver)\u001b[0m\n\u001b[0;32m    123\u001b[0m \u001b[1;33m\u001b[0m\u001b[0m\n\u001b[0;32m    124\u001b[0m     \u001b[1;31m# perform decomposition\u001b[0m\u001b[1;33m\u001b[0m\u001b[1;33m\u001b[0m\u001b[1;33m\u001b[0m\u001b[0m\n\u001b[1;32m--> 125\u001b[1;33m     u, s, v, info = gesXd(a1, compute_uv=compute_uv, lwork=lwork,\n\u001b[0m\u001b[0;32m    126\u001b[0m                           full_matrices=full_matrices, overwrite_a=overwrite_a)\n\u001b[0;32m    127\u001b[0m \u001b[1;33m\u001b[0m\u001b[0m\n",
      "\u001b[1;31mMemoryError\u001b[0m: Unable to allocate 6.62 MiB for an array with shape (868155,) and data type float64"
     ]
    }
   ],
   "source": [
    "#MICE imputation\n",
    "\n",
    "from sklearn.experimental import enable_iterative_imputer\n",
    "\n",
    "from sklearn.impute import IterativeImputer\n",
    "MICE_imputer = IterativeImputer() \n",
    "X_train3_filled = X_train3.copy(deep = True)\n",
    "X_train3_filled.iloc[:, :] = MICE_imputer.fit_transform(X_train3_filled)"
   ]
  },
  {
   "cell_type": "code",
   "execution_count": null,
   "id": "3c98c49a",
   "metadata": {},
   "outputs": [],
   "source": [
    "X_train3_filled.shape"
   ]
  },
  {
   "cell_type": "code",
   "execution_count": null,
   "id": "6e7416a7",
   "metadata": {},
   "outputs": [],
   "source": [
    "X1 = X_train3_filled \n",
    "Y1 = y_train.dropna()"
   ]
  },
  {
   "cell_type": "code",
   "execution_count": null,
   "id": "7deabbdf",
   "metadata": {},
   "outputs": [],
   "source": [
    "#Feature selection based on RFE (Recursive Feature Elimination)\n",
    "from sklearn.feature_selection import RFE\n",
    "from sklearn.linear_model import LinearRegression"
   ]
  },
  {
   "cell_type": "code",
   "execution_count": null,
   "id": "44cca32a",
   "metadata": {},
   "outputs": [],
   "source": [
    "lin_reg = LinearRegression()"
   ]
  },
  {
   "cell_type": "code",
   "execution_count": null,
   "id": "cf799ceb",
   "metadata": {},
   "outputs": [],
   "source": [
    "rfe = RFE(lin_reg, 46) # selecting best 80 features for the model \n",
    "rfe.fit(X1, Y1)"
   ]
  },
  {
   "cell_type": "code",
   "execution_count": null,
   "id": "483db0d4",
   "metadata": {},
   "outputs": [],
   "source": [
    "print(f\"Number of selected features: {rfe.n_features_}\\n\\\n",
    "Mask: {rfe.support_}\\n\\\n",
    "Selected Features:\", [feature for feature, rank in zip(X1.columns.values, rfe.ranking_) if rank==1],\"\\n\\\n",
    "Estimator : {rfe.estimator_}\")"
   ]
  },
  {
   "cell_type": "code",
   "execution_count": null,
   "id": "f5c1032f",
   "metadata": {},
   "outputs": [],
   "source": []
  },
  {
   "cell_type": "code",
   "execution_count": null,
   "id": "457f210b",
   "metadata": {},
   "outputs": [],
   "source": [
    "X1_RFE = X1[['feature013', 'feature017', 'feature019', 'feature035', 'feature037', 'feature044', 'feature046', 'feature049', 'feature051', 'feature054', 'feature055', 'feature058', 'feature093', 'feature094', 'feature096', 'feature101', 'feature102', 'feature105', 'feature106', 'feature107', 'feature148', 'feature154', 'feature173', 'feature175', 'feature197', 'feature202', 'feature239', 'feature240', 'feature245', 'feature252', 'feature279', 'feature283', 'feature289', 'feature308', 'feature310', 'feature333', 'feature338', 'feature377', 'feature378', 'feature383', 'feature390', 'feature545', 'feature579', 'feature582', 'feature587', 'feature590']]"
   ]
  },
  {
   "cell_type": "code",
   "execution_count": null,
   "id": "60069a59",
   "metadata": {},
   "outputs": [],
   "source": [
    "X1_RFE.shape"
   ]
  },
  {
   "cell_type": "code",
   "execution_count": null,
   "id": "143c0129",
   "metadata": {},
   "outputs": [],
   "source": [
    "#importing SMOTE\n",
    "\n",
    "from imblearn.over_sampling import SMOTE \n",
    "\n",
    "sm = SMOTE(random_state=42)\n",
    "\n",
    "X_sm, y_sm = sm.fit_resample(X1_RFE, Y1)\n",
    "\n",
    "print(f'''Shape of X before SMOTE: {X1_RFE.shape}\n",
    "Shape of X after SMOTE: {X_sm.shape}''')\n",
    "\n",
    "print('\\nBalance of positive and negative classes (%):')\n",
    "y_sm.value_counts(normalize=True) * 100"
   ]
  },
  {
   "cell_type": "code",
   "execution_count": null,
   "id": "76f281ee",
   "metadata": {},
   "outputs": [],
   "source": [
    "#TEST DATA "
   ]
  },
  {
   "cell_type": "code",
   "execution_count": null,
   "id": "70e24301",
   "metadata": {},
   "outputs": [],
   "source": [
    "#dropping the timestamp column as it is not used for modelling\n",
    "\n",
    "X_test = X_test.drop(['ID', 'timestamp'],axis = 1)"
   ]
  },
  {
   "cell_type": "code",
   "execution_count": null,
   "id": "f33fbda0",
   "metadata": {},
   "outputs": [],
   "source": [
    "#making the class as categorical value\n",
    "\n",
    "y_test = y_test.astype('category')\n",
    "assert y_test.dtype == 'category'"
   ]
  },
  {
   "cell_type": "code",
   "execution_count": null,
   "id": "d09d153c",
   "metadata": {},
   "outputs": [],
   "source": [
    "X_test1 = X_test.drop(X_test.columns[X_test.apply(lambda col: col.isnull().sum()/len(df) > 0.55)], axis=1)\n",
    "X_test1"
   ]
  },
  {
   "cell_type": "code",
   "execution_count": null,
   "id": "7a37f763",
   "metadata": {},
   "outputs": [],
   "source": [
    "X_test2 = X_test1.drop(X_test1.columns[X_test1.apply(lambda col: col.nunique()) == 1],axis=1)\n",
    "X_test2"
   ]
  },
  {
   "cell_type": "code",
   "execution_count": null,
   "id": "06b2a9b5",
   "metadata": {},
   "outputs": [],
   "source": [
    "#:: OUTLIERS HANDLING ::\n",
    "X_test3 = outlier_detection_and_replacement(X_test2)"
   ]
  },
  {
   "cell_type": "code",
   "execution_count": null,
   "id": "5f149af1",
   "metadata": {},
   "outputs": [],
   "source": [
    "#MICE imputation\n",
    "\n",
    "from sklearn.experimental import enable_iterative_imputer\n",
    "\n",
    "from sklearn.impute import IterativeImputer\n",
    "MICE_imputer = IterativeImputer() \n",
    "X_test3_filled = X_test3.copy(deep = True)\n",
    "X_test3_filled.iloc[:, :] = MICE_imputer.fit_transform(X_test3_filled)"
   ]
  },
  {
   "cell_type": "code",
   "execution_count": null,
   "id": "c886186f",
   "metadata": {},
   "outputs": [],
   "source": [
    "X_test3_filled.shape"
   ]
  },
  {
   "cell_type": "code",
   "execution_count": null,
   "id": "3df72f05",
   "metadata": {},
   "outputs": [],
   "source": [
    "#dropping the ID column and assigning the test values\n",
    "\n",
    "X2 = X_test3_filled\n",
    "Y2 = y_test.dropna()"
   ]
  },
  {
   "cell_type": "code",
   "execution_count": null,
   "id": "c0bb5ba7",
   "metadata": {},
   "outputs": [],
   "source": [
    "X2_RFE = X2[['feature013', 'feature017', 'feature019', 'feature035', 'feature037', 'feature044', 'feature046', 'feature049', 'feature051', 'feature054', 'feature055', 'feature058', 'feature093', 'feature094', 'feature096', 'feature101', 'feature102', 'feature105', 'feature106', 'feature107', 'feature148', 'feature154', 'feature173', 'feature175', 'feature197', 'feature202', 'feature239', 'feature240', 'feature245', 'feature252', 'feature279', 'feature283', 'feature289', 'feature308', 'feature310', 'feature333', 'feature338', 'feature377', 'feature378', 'feature383', 'feature390', 'feature545', 'feature579', 'feature582', 'feature587', 'feature590']]"
   ]
  },
  {
   "cell_type": "code",
   "execution_count": null,
   "id": "b71ed2eb",
   "metadata": {},
   "outputs": [],
   "source": [
    "X2_RFE"
   ]
  },
  {
   "cell_type": "code",
   "execution_count": null,
   "id": "6ce69c18",
   "metadata": {},
   "outputs": [],
   "source": []
  },
  {
   "cell_type": "code",
   "execution_count": null,
   "id": "f3f5b97c",
   "metadata": {
    "scrolled": true
   },
   "outputs": [],
   "source": []
  },
  {
   "cell_type": "code",
   "execution_count": 67,
   "id": "e0703eb7",
   "metadata": {},
   "outputs": [
    {
     "data": {
      "image/png": "[encoded data removed]",
      "text/plain": [
       "<Figure size 432x288 with 1 Axes>"
      ]
     },
     "metadata": {
      "needs_background": "light"
     },
     "output_type": "display_data"
    },
    {
     "name": "stdout",
     "output_type": "stream",
     "text": [
      "Accuracy = 0.94\n",
      "Recall = 0.00\n",
      "\n"
     ]
    },
    {
     "data": {
      "image/png": "[encoded data removed]",
      "text/plain": [
       "<Figure size 432x288 with 2 Axes>"
      ]
     },
     "metadata": {
      "needs_background": "light"
     },
     "output_type": "display_data"
    },
    {
     "data": {
      "text/plain": [
       "array([[442,   0],\n",
       "       [ 29,   0]], dtype=int64)"
      ]
     },
     "execution_count": 67,
     "metadata": {},
     "output_type": "execute_result"
    }
   ],
   "source": [
    "from sklearn.ensemble import RandomForestClassifier\n",
    "from sklearn.metrics import plot_roc_curve\n",
    "\n",
    "model = RandomForestClassifier(n_jobs = -1, max_depth = 5, random_state=42,)\n",
    "model.fit(X4_RFE, Y1)\n",
    "ax = plt.gca()\n",
    "rfc_disp = plot_roc_curve(model, X5_RFE,Y2, ax=ax, alpha=0.8)\n",
    "preds = model.predict(X5_RFE)\n",
    "confusion_matrix_and_metrics(model,Y2, preds, X5_RFE)\n",
    "plt.show()\n",
    "\n",
    "print(f'Accuracy = {accuracy_score(Y2, preds):.2f}\\nRecall = {recall_score(Y2, preds):.2f}\\n')"
   ]
  },
  {
   "cell_type": "code",
   "execution_count": 81,
   "id": "6fc08140",
   "metadata": {},
   "outputs": [
    {
     "name": "stdout",
     "output_type": "stream",
     "text": [
      "Accuracy = 0.94\n",
      "Recall = 0.00\n",
      "\n"
     ]
    }
   ],
   "source": [
    "from sklearn.naive_bayes import GaussianNB\n",
    "classifier = GaussianNB()\n",
    "classifier.fit(X1_RFE, Y1)\n",
    "y_pred  =  classifier.predict(X2_RFE)\n",
    "from sklearn.metrics import confusion_matrix,accuracy_score\n",
    "cm1 = confusion_matrix(Y2, y_pred)\n",
    "ac1 = accuracy_score(Y2,y_pred)\n",
    "\n",
    "print(f'Accuracy = {accuracy_score(Y2, preds):.2f}\\nRecall = {recall_score(Y2, preds):.2f}\\n')"
   ]
  },
  {
   "cell_type": "code",
   "execution_count": 75,
   "id": "d9de414b",
   "metadata": {},
   "outputs": [
    {
     "name": "stdout",
     "output_type": "stream",
     "text": [
      "[[423  19]\n",
      " [ 27   2]]\n"
     ]
    }
   ],
   "source": [
    "print(cm)"
   ]
  },
  {
   "cell_type": "code",
   "execution_count": 78,
   "id": "fe732e54",
   "metadata": {},
   "outputs": [
    {
     "data": {
      "text/plain": [
       "<AxesSubplot:>"
      ]
     },
     "execution_count": 78,
     "metadata": {},
     "output_type": "execute_result"
    },
    {
     "data": {
      "image/png": "[encoded data removed]",
      "text/plain": [
       "<Figure size 432x288 with 2 Axes>"
      ]
     },
     "metadata": {
      "needs_background": "light"
     },
     "output_type": "display_data"
    }
   ],
   "source": [
    "sns.heatmap(cm1, annot=True, annot_kws={\"size\": 10})"
   ]
  },
  {
   "cell_type": "code",
   "execution_count": 79,
   "id": "7364ba86",
   "metadata": {},
   "outputs": [
    {
     "data": {
      "text/plain": [
       "0.9023354564755839"
      ]
     },
     "execution_count": 79,
     "metadata": {},
     "output_type": "execute_result"
    }
   ],
   "source": [
    "ac1"
   ]
  },
  {
   "cell_type": "code",
   "execution_count": 80,
   "id": "5a69a0f2",
   "metadata": {},
   "outputs": [
    {
     "ename": "NameError",
     "evalue": "name 'confusion_matrix_and_metrics' is not defined",
     "output_type": "error",
     "traceback": [
      "\u001b[1;31m---------------------------------------------------------------------------\u001b[0m",
      "\u001b[1;31mNameError\u001b[0m                                 Traceback (most recent call last)",
      "\u001b[1;32m<ipython-input-80-f1fed03aacf0>\u001b[0m in \u001b[0;36m<module>\u001b[1;34m\u001b[0m\n\u001b[1;32m----> 1\u001b[1;33m \u001b[0mconfusion_matrix_and_metrics\u001b[0m\u001b[1;33m(\u001b[0m\u001b[0mmodel1\u001b[0m\u001b[1;33m,\u001b[0m\u001b[0mY2\u001b[0m\u001b[1;33m,\u001b[0m \u001b[0my_pred\u001b[0m\u001b[1;33m,\u001b[0m \u001b[0mX2_RFE\u001b[0m\u001b[1;33m)\u001b[0m\u001b[1;33m\u001b[0m\u001b[1;33m\u001b[0m\u001b[0m\n\u001b[0m\u001b[0;32m      2\u001b[0m \u001b[0mplt\u001b[0m\u001b[1;33m.\u001b[0m\u001b[0mshow\u001b[0m\u001b[1;33m(\u001b[0m\u001b[1;33m)\u001b[0m\u001b[1;33m\u001b[0m\u001b[1;33m\u001b[0m\u001b[0m\n\u001b[0;32m      3\u001b[0m \u001b[0mprint\u001b[0m\u001b[1;33m(\u001b[0m\u001b[1;34mf'Accuracy = {accuracy_score(Y2, y_pred):.2f}\\nRecall = {recall_score(Y2, y_pred):.2f}\\n'\u001b[0m\u001b[1;33m)\u001b[0m\u001b[1;33m\u001b[0m\u001b[1;33m\u001b[0m\u001b[0m\n",
      "\u001b[1;31mNameError\u001b[0m: name 'confusion_matrix_and_metrics' is not defined"
     ]
    }
   ],
   "source": [
    "confusion_matrix_and_metrics(model1,Y2, y_pred, X2_RFE)\n",
    "plt.show()\n",
    "print(f'Accuracy = {accuracy_score(Y2, y_pred):.2f}\\nRecall = {recall_score(Y2, y_pred):.2f}\\n')"
   ]
  },
  {
   "cell_type": "code",
   "execution_count": null,
   "id": "0c3fba9f",
   "metadata": {},
   "outputs": [],
   "source": []
  }
 ],
 "metadata": {
  "kernelspec": {
   "display_name": "Python 3",
   "language": "python",
   "name": "python3"
  },
  "language_info": {
   "codemirror_mode": {
    "name": "ipython",
    "version": 3
   },
   "file_extension": ".py",
   "mimetype": "text/x-python",
   "name": "python",
   "nbconvert_exporter": "python",
   "pygments_lexer": "ipython3",
   "version": "3.8.5"
  }
 },
 "nbformat": 4,
 "nbformat_minor": 5
}
