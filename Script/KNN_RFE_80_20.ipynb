{
 "cells": [
  {
   "cell_type": "code",
   "execution_count": 1,
   "id": "4b9a4ad8",
   "metadata": {},
   "outputs": [
    {
     "name": "stderr",
     "output_type": "stream",
     "text": [
      "C:\\ProgramData\\Anaconda3\\lib\\site-packages\\numpy\\_distributor_init.py:30: UserWarning: loaded more than 1 DLL from .libs:\n",
      "C:\\ProgramData\\Anaconda3\\lib\\site-packages\\numpy\\.libs\\libopenblas.QVLO2T66WEPI7JZ63PS3HMOHFEY472BC.gfortran-win_amd64.dll\n",
      "C:\\ProgramData\\Anaconda3\\lib\\site-packages\\numpy\\.libs\\libopenblas.WCDJNK7YVMPZQ2ME2ZZHJJRJ3JIKNDB7.gfortran-win_amd64.dll\n",
      "  warnings.warn(\"loaded more than 1 DLL from .libs:\"\n"
     ]
    }
   ],
   "source": [
    "#importing necessary libraries\n",
    "\n",
    "import pandas as pd\n",
    "import matplotlib.pyplot as plt\n",
    "import seaborn as sns\n",
    "import numpy as np"
   ]
  },
  {
   "cell_type": "code",
   "execution_count": 2,
   "id": "a3d76f7e",
   "metadata": {},
   "outputs": [],
   "source": [
    "Train1 = pd.read_csv('X_train_80_20_KNN_RFE.csv')"
   ]
  },
  {
   "cell_type": "code",
   "execution_count": 3,
   "id": "13dd8549",
   "metadata": {},
   "outputs": [],
   "source": [
    "Train2 = pd.read_csv('y_train_80_20_KNN_RFE.csv')"
   ]
  },
  {
   "cell_type": "code",
   "execution_count": 4,
   "id": "de8bf2a2",
   "metadata": {},
   "outputs": [],
   "source": [
    "Test1 = pd.read_csv('X_test_80_20_KNN_RFE.csv')"
   ]
  },
  {
   "cell_type": "code",
   "execution_count": 5,
   "id": "d79a2177",
   "metadata": {},
   "outputs": [],
   "source": [
    "Test2 = pd.read_csv('y_test_80_20_KNN_RFE.csv')"
   ]
  },
  {
   "cell_type": "code",
   "execution_count": 6,
   "id": "c39ec275",
   "metadata": {},
   "outputs": [
    {
     "name": "stdout",
     "output_type": "stream",
     "text": [
      "Pipeline(steps=[('scaler', StandardScaler()),\n",
      "                ('decisionTree', DecisionTreeClassifier())])\n"
     ]
    },
    {
     "name": "stderr",
     "output_type": "stream",
     "text": [
      "<ipython-input-6-4e325ae5c005>:16: TqdmDeprecationWarning: This function will be removed in tqdm==5.0.0\n",
      "Please use `tqdm.notebook.tqdm` instead of `tqdm.tqdm_notebook`\n",
      "  for cv in tqdm_notebook(range(3,10)):\n"
     ]
    },
    {
     "data": {
      "application/vnd.jupyter.widget-view+json": {
       "model_id": "aa0d911f957a43c3b054b6591d9fafba",
       "version_major": 2,
       "version_minor": 0
      },
      "text/plain": [
       "  0%|          | 0/7 [00:00<?, ?it/s]"
      ]
     },
     "metadata": {},
     "output_type": "display_data"
    },
    {
     "name": "stdout",
     "output_type": "stream",
     "text": [
      "score for 3 fold CV := 0.81\n",
      "{'decisionTree__criterion': 'entropy', 'decisionTree__max_depth': 12}\n",
      "score for 4 fold CV := 0.82\n",
      "{'decisionTree__criterion': 'entropy', 'decisionTree__max_depth': 13}\n",
      "score for 5 fold CV := 0.81\n",
      "{'decisionTree__criterion': 'entropy', 'decisionTree__max_depth': 14}\n",
      "score for 6 fold CV := 0.82\n",
      "{'decisionTree__criterion': 'entropy', 'decisionTree__max_depth': 14}\n",
      "score for 7 fold CV := 0.81\n",
      "{'decisionTree__criterion': 'entropy', 'decisionTree__max_depth': 14}\n",
      "score for 8 fold CV := 0.81\n",
      "{'decisionTree__criterion': 'entropy', 'decisionTree__max_depth': 13}\n",
      "score for 9 fold CV := 0.82\n",
      "{'decisionTree__criterion': 'entropy', 'decisionTree__max_depth': 14}\n"
     ]
    }
   ],
   "source": [
    "from sklearn.tree import DecisionTreeClassifier\n",
    "from sklearn.pipeline import Pipeline\n",
    "from sklearn.model_selection import GridSearchCV\n",
    "from sklearn.preprocessing import StandardScaler\n",
    "\n",
    "\n",
    "pipe_steps = [('scaler', StandardScaler()), ('decisionTree', DecisionTreeClassifier())]\n",
    "check_params  = { 'decisionTree__criterion': ['gini', 'entropy'],\n",
    "                  'decisionTree__max_depth': np.arange(3, 15)}\n",
    "\n",
    "pipeline = Pipeline(pipe_steps)\n",
    "print(pipeline)\n",
    "\n",
    "from tqdm import tqdm_notebook \n",
    "\n",
    "for cv in tqdm_notebook(range(3,10)):\n",
    "    create_grid = GridSearchCV(pipeline, param_grid=check_params, cv=cv)\n",
    "    create_grid.fit(Train1, Train2)\n",
    "    print(\"score for %d fold CV := %3.2f\" %(cv , create_grid.score(Test1, Test2)))\n",
    "    print(create_grid.best_params_)\n"
   ]
  },
  {
   "cell_type": "code",
   "execution_count": 9,
   "id": "65f93871",
   "metadata": {},
   "outputs": [],
   "source": [
    "from sklearn.metrics import accuracy_score, recall_score, confusion_matrix\n",
    "from sklearn.metrics import classification_report\n",
    "from sklearn.metrics import balanced_accuracy_score\n",
    "from sklearn.metrics import roc_auc_score\n",
    "\n",
    "def confusion_matrix_and_metrics(model, y_test, preds, X_test):\n",
    "    cm = confusion_matrix(y_test, preds)\n",
    "    plt.figure(figsize=(8, 6))\n",
    "    plt.title('Confusion Matrix', size=16)\n",
    "    sns.heatmap(cm, annot=True, cmap=\"YlGnBu\", fmt=\"d\",xticklabels=['Act. pass', 'Act. fail'], yticklabels=['Pred. pass', 'Pred. fail']);\n",
    "    print(classification_report(y_test, preds))\n",
    "\n",
    "\n",
    "    print('Average Accuracy:', accuracy_score(y_test, preds))\n",
    "    print('Average Balanced Accuracy:', balanced_accuracy_score(y_test, preds))"
   ]
  },
  {
   "cell_type": "code",
   "execution_count": 10,
   "id": "0af0689a",
   "metadata": {},
   "outputs": [
    {
     "name": "stdout",
     "output_type": "stream",
     "text": [
      "Accuracy = 0.80\n",
      "Recall = 0.11\n",
      "\n",
      "              precision    recall  f1-score   support\n",
      "\n",
      "         0.0       0.94      0.85      0.89       295\n",
      "         1.0       0.04      0.11      0.06        19\n",
      "\n",
      "    accuracy                           0.80       314\n",
      "   macro avg       0.49      0.48      0.48       314\n",
      "weighted avg       0.88      0.80      0.84       314\n",
      "\n",
      "Average Accuracy: 0.802547770700637\n",
      "Average Balanced Accuracy: 0.47636039250669043\n"
     ]
    },
    {
     "data": {
      "image/png": "[encoded data removed]",
      "text/plain": [
       "<Figure size 432x288 with 1 Axes>"
      ]
     },
     "metadata": {
      "needs_background": "light"
     },
     "output_type": "display_data"
    },
    {
     "data": {
      "image/png": "[encoded data removed]",
      "text/plain": [
       "<Figure size 576x432 with 2 Axes>"
      ]
     },
     "metadata": {
      "needs_background": "light"
     },
     "output_type": "display_data"
    }
   ],
   "source": [
    "#DecisionTreeClassifier\n",
    "from sklearn.metrics import accuracy_score, recall_score, confusion_matrix\n",
    "from sklearn.metrics import classification_report\n",
    "from sklearn.metrics import balanced_accuracy_score\n",
    "from sklearn.metrics import plot_roc_curve\n",
    "\n",
    "model = DecisionTreeClassifier(criterion='entropy', max_depth=14)\n",
    "model.fit(Train1, Train2)\n",
    "ax = plt.gca()\n",
    "rfc_disp = plot_roc_curve(model, Test1,Test2, ax=ax, alpha=0.8)\n",
    "preds = model.predict(Test1)\n",
    "\n",
    "print(f'Accuracy = {accuracy_score(Test2, preds):.2f}\\nRecall = {recall_score(Test2, preds):.2f}\\n')\n",
    "\n",
    "confusion_matrix_and_metrics(model,Test2, preds, Test1)\n",
    "plt.show()"
   ]
  },
  {
   "cell_type": "code",
   "execution_count": null,
   "id": "d8834b9a",
   "metadata": {},
   "outputs": [],
   "source": []
  }
 ],
 "metadata": {
  "kernelspec": {
   "display_name": "Python 3",
   "language": "python",
   "name": "python3"
  },
  "language_info": {
   "codemirror_mode": {
    "name": "ipython",
    "version": 3
   },
   "file_extension": ".py",
   "mimetype": "text/x-python",
   "name": "python",
   "nbconvert_exporter": "python",
   "pygments_lexer": "ipython3",
   "version": "3.8.5"
  }
 },
 "nbformat": 4,
 "nbformat_minor": 5
}
