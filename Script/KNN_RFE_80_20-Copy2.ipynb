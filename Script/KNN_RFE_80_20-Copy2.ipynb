{
 "cells": [
  {
   "cell_type": "code",
   "execution_count": 1,
   "id": "4b9a4ad8",
   "metadata": {},
   "outputs": [
    {
     "name": "stderr",
     "output_type": "stream",
     "text": [
      "C:\\ProgramData\\Anaconda3\\lib\\site-packages\\numpy\\_distributor_init.py:30: UserWarning: loaded more than 1 DLL from .libs:\n",
      "C:\\ProgramData\\Anaconda3\\lib\\site-packages\\numpy\\.libs\\libopenblas.QVLO2T66WEPI7JZ63PS3HMOHFEY472BC.gfortran-win_amd64.dll\n",
      "C:\\ProgramData\\Anaconda3\\lib\\site-packages\\numpy\\.libs\\libopenblas.WCDJNK7YVMPZQ2ME2ZZHJJRJ3JIKNDB7.gfortran-win_amd64.dll\n",
      "  warnings.warn(\"loaded more than 1 DLL from .libs:\"\n"
     ]
    }
   ],
   "source": [
    "#importing necessary libraries\n",
    "\n",
    "import pandas as pd\n",
    "import matplotlib.pyplot as plt\n",
    "import seaborn as sns\n",
    "import numpy as np"
   ]
  },
  {
   "cell_type": "code",
   "execution_count": 2,
   "id": "a3d76f7e",
   "metadata": {},
   "outputs": [],
   "source": [
    "Train1 = pd.read_csv('X_train_80_20_KNN_RFE.csv')"
   ]
  },
  {
   "cell_type": "code",
   "execution_count": 3,
   "id": "13dd8549",
   "metadata": {},
   "outputs": [],
   "source": [
    "Train2 = pd.read_csv('y_train_80_20_KNN_RFE.csv')"
   ]
  },
  {
   "cell_type": "code",
   "execution_count": 4,
   "id": "de8bf2a2",
   "metadata": {},
   "outputs": [],
   "source": [
    "Test1 = pd.read_csv('X_test_80_20_KNN_RFE.csv')"
   ]
  },
  {
   "cell_type": "code",
   "execution_count": 5,
   "id": "d79a2177",
   "metadata": {},
   "outputs": [],
   "source": [
    "Test2 = pd.read_csv('y_test_80_20_KNN_RFE.csv')"
   ]
  },
  {
   "cell_type": "code",
   "execution_count": null,
   "id": "c39ec275",
   "metadata": {},
   "outputs": [],
   "source": []
  },
  {
   "cell_type": "code",
   "execution_count": 6,
   "id": "65f93871",
   "metadata": {},
   "outputs": [],
   "source": [
    "from sklearn.metrics import accuracy_score, recall_score, confusion_matrix\n",
    "from sklearn.metrics import classification_report\n",
    "from sklearn.metrics import balanced_accuracy_score\n",
    "from sklearn.metrics import roc_auc_score\n",
    "\n",
    "def confusion_matrix_and_metrics(model, y_test, preds, X_test):\n",
    "    cm = confusion_matrix(y_test, preds)\n",
    "    plt.figure(figsize=(8, 6))\n",
    "    plt.title('Confusion Matrix', size=16)\n",
    "    sns.heatmap(cm, annot=True, cmap=\"YlGnBu\", fmt=\"d\",xticklabels=['Act. pass', 'Act. fail'], yticklabels=['Pred. pass', 'Pred. fail']);\n",
    "    print(classification_report(y_test, preds))\n",
    "\n",
    "\n",
    "    print('Average Accuracy:', accuracy_score(y_test, preds))\n",
    "    print('Average Balanced Accuracy:', balanced_accuracy_score(y_test, preds))"
   ]
  },
  {
   "cell_type": "code",
   "execution_count": 7,
   "id": "0af0689a",
   "metadata": {},
   "outputs": [
    {
     "name": "stderr",
     "output_type": "stream",
     "text": [
      "C:\\ProgramData\\Anaconda3\\lib\\site-packages\\sklearn\\utils\\validation.py:63: DataConversionWarning: A column-vector y was passed when a 1d array was expected. Please change the shape of y to (n_samples, ), for example using ravel().\n",
      "  return f(*args, **kwargs)\n"
     ]
    },
    {
     "name": "stdout",
     "output_type": "stream",
     "text": [
      "              precision    recall  f1-score   support\n",
      "\n",
      "         0.0       0.95      0.79      0.86       295\n",
      "         1.0       0.10      0.37      0.16        19\n",
      "\n",
      "    accuracy                           0.76       314\n",
      "   macro avg       0.53      0.58      0.51       314\n",
      "weighted avg       0.90      0.76      0.82       314\n",
      "\n",
      "Average Accuracy: 0.7643312101910829\n",
      "Average Balanced Accuracy: 0.5791257805530776\n"
     ]
    },
    {
     "data": {
      "image/png": "[encoded data removed]",
      "text/plain": [
       "<Figure size 576x432 with 2 Axes>"
      ]
     },
     "metadata": {
      "needs_background": "light"
     },
     "output_type": "display_data"
    },
    {
     "data": {
      "image/png": "[encoded data removed]",
      "text/plain": [
       "<Figure size 576x432 with 2 Axes>"
      ]
     },
     "metadata": {
      "needs_background": "light"
     },
     "output_type": "display_data"
    },
    {
     "name": "stdout",
     "output_type": "stream",
     "text": [
      "Accuracy = 0.76\n",
      "Recall = 0.37\n",
      "\n"
     ]
    }
   ],
   "source": [
    "#Naive\n",
    "from sklearn.naive_bayes import GaussianNB\n",
    "classifier = GaussianNB()\n",
    "classifier.fit(Train1, Train2)\n",
    "y_pred  =  classifier.predict(Test1)\n",
    "cm = confusion_matrix(Test2, y_pred)\n",
    "plt.figure(figsize=(8, 6))\n",
    "plt.title('Confusion Matrix (with SMOTE)', size=16)\n",
    "sns.heatmap(cm, annot=True, cmap='Blues');\n",
    "\n",
    "confusion_matrix_and_metrics(cm,Test2, y_pred, Test1)\n",
    "plt.show()\n",
    "\n",
    "print(f'Accuracy = {accuracy_score(Test2, y_pred):.2f}\\nRecall = {recall_score(Test2, y_pred):.2f}\\n')"
   ]
  },
  {
   "cell_type": "code",
   "execution_count": null,
   "id": "d8834b9a",
   "metadata": {},
   "outputs": [],
   "source": []
  }
 ],
 "metadata": {
  "kernelspec": {
   "display_name": "Python 3",
   "language": "python",
   "name": "python3"
  },
  "language_info": {
   "codemirror_mode": {
    "name": "ipython",
    "version": 3
   },
   "file_extension": ".py",
   "mimetype": "text/x-python",
   "name": "python",
   "nbconvert_exporter": "python",
   "pygments_lexer": "ipython3",
   "version": "3.8.5"
  }
 },
 "nbformat": 4,
 "nbformat_minor": 5
}
