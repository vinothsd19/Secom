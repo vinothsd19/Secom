{
 "cells": [
  {
   "cell_type": "code",
   "execution_count": null,
   "id": "8935500b",
   "metadata": {},
   "outputs": [],
   "source": [
    "X_test = X_test.copy()"
   ]
  },
  {
   "cell_type": "code",
   "execution_count": null,
   "id": "e0679e06",
   "metadata": {},
   "outputs": [],
   "source": [
    "y_test = y_test.astype('category')\n",
    "assert y_test.dtype == 'category'"
   ]
  },
  {
   "cell_type": "code",
   "execution_count": null,
   "id": "484f1a79",
   "metadata": {},
   "outputs": [],
   "source": [
    "X_test = X_test.drop('timestamp',axis = 1)"
   ]
  },
  {
   "cell_type": "code",
   "execution_count": null,
   "id": "1c80d0b5",
   "metadata": {},
   "outputs": [],
   "source": [
    "X_test"
   ]
  },
  {
   "cell_type": "code",
   "execution_count": null,
   "id": "036783c5",
   "metadata": {},
   "outputs": [],
   "source": [
    "#since the data set is just numbers , we can remove the columns which have more than 55% null values,\n",
    "#so we can create a better performaing model.\n",
    "#applying lambda function to select the columns more than 55% null values\n",
    "\n",
    "X_test1 = X_test.drop(X_test.columns[X_test.apply(lambda col: col.isnull().sum()/len(df) > 0.55)], axis=1)\n",
    "X_test1"
   ]
  },
  {
   "cell_type": "code",
   "execution_count": null,
   "id": "e0e1988a",
   "metadata": {},
   "outputs": [],
   "source": [
    "# since the mmodel wont perform well , if column have same value them it is not usable for training the model.\n",
    "#so the columns with single unique values are removed.\n",
    "\n",
    "X_test2 = X_test1.drop(X_test1.columns[X_test1.apply(lambda col: col.nunique()) == 1],axis=1)\n",
    "X_test2"
   ]
  },
  {
   "cell_type": "code",
   "execution_count": null,
   "id": "ae32ad58",
   "metadata": {},
   "outputs": [],
   "source": [
    "X_test3 = X_test2[np.abs(X_test2-X_test2.mean())<=(3*X_test2.std())]"
   ]
  },
  {
   "cell_type": "code",
   "execution_count": null,
   "id": "dd6111ae",
   "metadata": {},
   "outputs": [],
   "source": [
    "X_test3"
   ]
  },
  {
   "cell_type": "code",
   "execution_count": null,
   "id": "d9b1c4bf",
   "metadata": {},
   "outputs": [],
   "source": [
    "#MICE imputation\n",
    "\n",
    "from sklearn.experimental import enable_iterative_imputer\n",
    "\n",
    "from sklearn.impute import IterativeImputer\n",
    "MICE_imputer = IterativeImputer() \n",
    "X_test3_filled = X_test3.copy(deep = True)\n",
    "X_train3_filled.iloc[:, :] = MICE_imputer.fit_transform(X_test3_filled)"
   ]
  },
  {
   "cell_type": "code",
   "execution_count": null,
   "id": "37716212",
   "metadata": {},
   "outputs": [],
   "source": [
    "X_test3_filled"
   ]
  },
  {
   "cell_type": "code",
   "execution_count": null,
   "id": "6f5839fa",
   "metadata": {},
   "outputs": [],
   "source": [
    "X_test3_imputed = pd.DataFrame(X_test3_filled, columns=X_test3.columns)\n",
    "X_test3_imputed"
   ]
  },
  {
   "cell_type": "code",
   "execution_count": null,
   "id": "d2698a4a",
   "metadata": {},
   "outputs": [],
   "source": [
    "X2 = X_test3_imputed.drop('ID', axis = 1)\n",
    "Y2 = y_test.dropna()"
   ]
  },
  {
   "cell_type": "code",
   "execution_count": null,
   "id": "5abd525e",
   "metadata": {},
   "outputs": [],
   "source": [
    "#Feature selection based on RFE (Recursive Feature Elimination)\n",
    "from sklearn.feature_selection import RFE\n",
    "from sklearn.linear_model import LinearRegression"
   ]
  },
  {
   "cell_type": "code",
   "execution_count": null,
   "id": "11aaba3a",
   "metadata": {},
   "outputs": [],
   "source": [
    "lin_reg = LinearRegression()"
   ]
  },
  {
   "cell_type": "code",
   "execution_count": null,
   "id": "aa51ef93",
   "metadata": {},
   "outputs": [],
   "source": [
    "rfe = RFE(lin_reg, 80) # selecting best 80 features for the model \n",
    "rfe.fit(X2, Y2)"
   ]
  },
  {
   "cell_type": "code",
   "execution_count": null,
   "id": "ab23f2c4",
   "metadata": {},
   "outputs": [],
   "source": [
    "print(f\"Number of selected features: {rfe.n_features_}\\n\\\n",
    "Mask: {rfe.support_}\\n\\\n",
    "Selected Features:\", [feature for feature, rank in zip(X1.columns.values, rfe.ranking_) if rank==1],\"\\n\\\n",
    "Estimator : {rfe.estimator_}\")"
   ]
  },
  {
   "cell_type": "code",
   "execution_count": null,
   "id": "fc0c2779",
   "metadata": {},
   "outputs": [],
   "source": [
    "X2_RFE = X2[['feature008', 'feature012', 'feature013', 'feature017', 'feature019', 'feature044', 'feature046', 'feature049', 'feature051', 'feature054', 'feature055', 'feature057', 'feature058', 'feature093', 'feature101', 'feature102', 'feature105', 'feature106', 'feature107', 'feature110', 'feature115', 'feature120', 'feature132', 'feature144', 'feature165', 'feature173', 'feature175', 'feature176', 'feature211', 'feature213', 'feature214', 'feature215', 'feature217', 'feature218', 'feature222', 'feature228', 'feature229', 'feature239', 'feature240', 'feature245', 'feature250', 'feature252', 'feature255', 'feature279', 'feature283', 'feature300', 'feature308', 'feature310', 'feature349', 'feature351', 'feature352', 'feature353', 'feature355', 'feature356', 'feature360', 'feature367', 'feature368', 'feature369', 'feature377', 'feature378', 'feature383', 'feature388', 'feature390', 'feature392', 'feature393', 'feature444', 'feature446', 'feature447', 'feature545', 'feature579', 'feature580', 'feature581', 'feature582', 'feature583', 'feature584', 'feature585', 'feature587', 'feature588', 'feature589', 'feature590']]"
   ]
  },
  {
   "cell_type": "code",
   "execution_count": null,
   "id": "be9a63e2",
   "metadata": {},
   "outputs": [],
   "source": [
    "X2_RFE"
   ]
  },
  {
   "cell_type": "code",
   "execution_count": null,
   "id": "2c6845bd",
   "metadata": {},
   "outputs": [],
   "source": []
  },
  {
   "cell_type": "code",
   "execution_count": null,
   "id": "d76cae3c",
   "metadata": {},
   "outputs": [],
   "source": []
  }
 ],
 "metadata": {
  "kernelspec": {
   "display_name": "Python 3",
   "language": "python",
   "name": "python3"
  },
  "language_info": {
   "codemirror_mode": {
    "name": "ipython",
    "version": 3
   },
   "file_extension": ".py",
   "mimetype": "text/x-python",
   "name": "python",
   "nbconvert_exporter": "python",
   "pygments_lexer": "ipython3",
   "version": "3.8.5"
  }
 },
 "nbformat": 4,
 "nbformat_minor": 5
}
